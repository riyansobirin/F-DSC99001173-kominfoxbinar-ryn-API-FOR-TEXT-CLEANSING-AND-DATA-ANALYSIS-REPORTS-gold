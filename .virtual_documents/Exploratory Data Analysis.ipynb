











# Import required libraries

import pandas as pd
import seaborn as sns
import matplotlib.pyplot as plt


# Take a look peak of data

data = pd.read_csv('data.csv', encoding='latin-1')
data.head(3)


data.columns


data


# General info

data.info()


# Missing value check

data.isna().sum() / len(data)


# Duplicated data check

data.duplicated().sum()





# Remove duplicated data

data = data.drop_duplicates()

# Sanity check

data.duplicated().sum()








# Create New Column for tweet type

def tweet(x):
    if x['HS'] == 1 and x['Abusive'] == 1:
        return 'Hate Speech & Abusive'
    elif x['HS'] == 1 and x['Abusive'] == 0:
        return 'Hate Speech'
    elif x['HS'] == 0 and x['Abusive'] == 1:
        return 'Abusive'
    else:
        return 'None'
        
data['Type'].str = data.apply(tweet, axis=1)


# Take a look at dataset

data.head(3)


# Tweet type classification

data['Type'].value_counts()


# Visualization

data['Type'].value_counts().plot.pie(autopct='%1.0f%%', colors = ['#04D9D9','#D7F205','#F2D0A7','#21A668'])








# Create new column for negative tweet target

def target(x):
    if x['HS_Individual'] == 1 and x['HS_Group'] == 1:
        return 'Both'
    elif x['HS_Individual'] == 1 and x['HS_Group'] == 0:
        return 'Individual'
    elif x['HS_Individual'] == 0 and x['HS_Group'] == 1:
        return 'Group'
    else:
        return 'None'

data['Target'].str = data.apply(target, axis=1)


# Take a look at dataset

data.head(5)


# Tweet target classification

filter = data['Target'] == 'None'
data[~filter]['Target'].value_counts()


# Visualization

data[~filter]['Target'].value_counts().plot.pie(autopct='%1.0f%%', colors = ['#F28907','#4158D9'])








# Create new dataframe for hate speech tweet level

df_level = data[(data['HS_Weak'] == 1) | (data['HS_Moderate']==1) | (data['HS_Strong']==1)].reset_index()


# Create new column negative tweet level

def level(x):
    if x['HS_Weak'] == 1:
        return 'Weak'
    elif x['HS_Moderate'] == 1:
        return 'Moderate'
    elif x['HS_Strong'] == 1:
        return 'Strong'
    else:
        return 'None'
    
df_level['Level'] = df_level.apply(level, axis = 1)


# Select interesting column

df_level = pd.DataFrame(df_level, columns=['index', 'Level'])

# Take a look at dataframe

df_level.head()


# Create new dataframe for hate speech tweet topics

df_topic = data[data['Target'] != 'None'].reset_index()


# Create new column negative tweet topics

def HStopic(x):
    if x['HS_Religion'] == 1:
        return 'Religion'
    elif x['HS_Race'] == 1:
        return 'Race'
    elif x['HS_Physical'] == 1:
        return 'Physical'
    elif x['HS_Gender'] == 1:
        return 'Gender' 
    else:
        return 'Other'
    
df_topic['Topic'] = df_topic.apply(HStopic, axis = 1)


# Select interesting column

df_topic = pd.DataFrame(df_topic, columns=['index', 'Topic'])

# Take a look at dataframe

df_topic.head()


# Join df_level and df_topic

df = pd.merge(df_topic, df_level, on='index').drop(['index'], axis=1)
df.head()


#Visualization

plt.figure(figsize=(12, 6))

plots = sns.countplot(x='Topic',hue='Level',data=df, palette='Set2', edgecolor='black')

for bar in plots.patches: 
    plots.annotate(format(bar.get_height(), '.0f'),
                   (bar.get_x() + bar.get_width() / 2,
                    bar.get_height()), ha='center', va='center',
                   size=10, xytext=(0, 10),
                   textcoords='offset points')

plt.ylim(0,3000)
plt.title('Hate Speech Topic and Level',fontsize=14)
plt.show()





# Tweet with HS_Weak in HS_Other example

print('Weak Hate Speech in Other topic example: {}'.format(data[(data['HS_Weak'] == 1) & (data['HS_Other']==1)]['Tweet'][0]))


# Tweet with HS_Moderate in HS_Other example

print('Moderate Hate Speech in Other topic example: {}'.format(data[(data['HS_Moderate'] == 1) & 
                                                                    (data['HS_Other']==1)]['Tweet'][35]))


# Tweet with HS_Strong in HS_Other example

print('Strong Hate Speech in Other topic example: {}'.format(data[(data['HS_Strong'] == 1) & 
                                                                  (data['HS_Other']==1)]['Tweet'][6590]))



